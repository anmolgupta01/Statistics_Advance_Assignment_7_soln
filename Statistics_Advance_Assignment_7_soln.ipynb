{
 "cells": [
  {
   "cell_type": "markdown",
   "id": "9961cc86",
   "metadata": {},
   "source": [
    "# Q1. Write a Python function that takes in two arrays of data and calculates the F-value for a variance ratio test. The function should return the F-value and the corresponding p-value for the test."
   ]
  },
  {
   "cell_type": "code",
   "execution_count": 2,
   "id": "6a633f21",
   "metadata": {},
   "outputs": [
    {
     "name": "stdout",
     "output_type": "stream",
     "text": [
      "F-value: 1.16\n",
      "P-value: 0.4437\n"
     ]
    }
   ],
   "source": [
    "import numpy as np\n",
    "from scipy import stats\n",
    "\n",
    "def variance_ratio_test(data1, data2):\n",
    "    \"\"\"\n",
    "    Perform a variance ratio test (F-test) on two arrays of data.\n",
    "\n",
    "    Args:\n",
    "    data1 (array-like): The first data array.\n",
    "    data2 (array-like): The second data array.\n",
    "\n",
    "    Returns:\n",
    "    f_value (float): The calculated F-value.\n",
    "    p_value (float): The corresponding p-value.\n",
    "    \"\"\"\n",
    "    # Convert data arrays to numpy arrays\n",
    "    data1 = np.array(data1)\n",
    "    data2 = np.array(data2)\n",
    "\n",
    "    # Calculate the variances of the two datasets\n",
    "    var1 = np.var(data1, ddof=1)  # ddof=1 for sample variance\n",
    "    var2 = np.var(data2, ddof=1)\n",
    "\n",
    "    # Calculate the F-value\n",
    "    f_value = var1 / var2\n",
    "\n",
    "    # Calculate the degrees of freedom for the F-test\n",
    "    df1 = len(data1) - 1\n",
    "    df2 = len(data2) - 1\n",
    "\n",
    "    # Calculate the p-value for the F-test\n",
    "    p_value = 1 - stats.f.cdf(f_value, df1, df2)\n",
    "\n",
    "    return f_value, p_value\n",
    "\n",
    "# Example usage:\n",
    "data_group1 = [20, 22, 24, 18, 21]\n",
    "data_group2 = [16, 15, 17, 19, 20]\n",
    "\n",
    "f_value, p_value = variance_ratio_test(data_group1, data_group2)\n",
    "print(f\"F-value: {f_value:.2f}\")\n",
    "print(f\"P-value: {p_value:.4f}\")\n"
   ]
  },
  {
   "cell_type": "markdown",
   "id": "43e7aa49",
   "metadata": {},
   "source": [
    "# Q2. Given a significance level of 0.05 and the degrees of freedom for the numerator and denominator of an F-distribution, write a Python function that returns the critical F-value for a two-tailed test."
   ]
  },
  {
   "cell_type": "code",
   "execution_count": 3,
   "id": "4af7d738",
   "metadata": {},
   "outputs": [
    {
     "name": "stdout",
     "output_type": "stream",
     "text": [
      "Lower Critical F-value: 0.0694\n",
      "Upper Critical F-value: 4.8256\n"
     ]
    }
   ],
   "source": [
    "from scipy import stats\n",
    "\n",
    "def critical_f_value(alpha, df1, df2):\n",
    "    \"\"\"\n",
    "    Calculate the critical F-value for a two-tailed test.\n",
    "\n",
    "    Args:\n",
    "    alpha (float): The significance level (e.g., 0.05).\n",
    "    df1 (int): Degrees of freedom for the numerator.\n",
    "    df2 (int): Degrees of freedom for the denominator.\n",
    "\n",
    "    Returns:\n",
    "    crit_f_value (float): The critical F-value.\n",
    "    \"\"\"\n",
    "    # Calculate the upper and lower alpha/2 quantiles for the F-distribution\n",
    "    alpha_over_2 = alpha / 2\n",
    "    lower_quantile = stats.f.ppf(alpha_over_2, df1, df2)\n",
    "    upper_quantile = stats.f.ppf(1 - alpha_over_2, df1, df2)\n",
    "\n",
    "    return lower_quantile, upper_quantile\n",
    "\n",
    "# Example usage:\n",
    "alpha = 0.05\n",
    "df1 = 3\n",
    "df2 = 10\n",
    "\n",
    "lower_crit_f, upper_crit_f = critical_f_value(alpha, df1, df2)\n",
    "print(f\"Lower Critical F-value: {lower_crit_f:.4f}\")\n",
    "print(f\"Upper Critical F-value: {upper_crit_f:.4f}\")\n"
   ]
  },
  {
   "cell_type": "markdown",
   "id": "dd2819bc",
   "metadata": {},
   "source": [
    "# Q3. Write a Python program that generates random samples from two normal distributions with known variances and uses an F-test to determine if the variances are equal. The program should output the Fvalue, degrees of freedom, and p-value for the test."
   ]
  },
  {
   "cell_type": "code",
   "execution_count": 4,
   "id": "2bb9788f",
   "metadata": {},
   "outputs": [
    {
     "name": "stdout",
     "output_type": "stream",
     "text": [
      "F-value: 0.9053\n",
      "Degrees of Freedom: (29, 29)\n",
      "P-value: 0.7907\n",
      "There is no significant difference in variances.\n"
     ]
    }
   ],
   "source": [
    "import numpy as np\n",
    "from scipy import stats\n",
    "\n",
    "# Set the random seed for reproducibility\n",
    "np.random.seed(0)\n",
    "\n",
    "# Generate random samples from two normal distributions with known variances\n",
    "# Change these values to your desired variances and sample sizes\n",
    "variance1 = 5.0\n",
    "variance2 = 8.0\n",
    "sample_size1 = 30\n",
    "sample_size2 = 30\n",
    "\n",
    "# Generate random samples from the two normal distributions\n",
    "sample1 = np.random.normal(loc=0, scale=np.sqrt(variance1), size=sample_size1)\n",
    "sample2 = np.random.normal(loc=0, scale=np.sqrt(variance2), size=sample_size2)\n",
    "\n",
    "# Perform the F-test to compare variances\n",
    "f_value = np.var(sample1, ddof=1) / np.var(sample2, ddof=1)\n",
    "df1 = sample_size1 - 1\n",
    "df2 = sample_size2 - 1\n",
    "p_value = 2 * min(stats.f.cdf(f_value, df1, df2), 1 - stats.f.cdf(f_value, df1, df2))\n",
    "\n",
    "# Output the results\n",
    "print(f\"F-value: {f_value:.4f}\")\n",
    "print(f\"Degrees of Freedom: ({df1}, {df2})\")\n",
    "print(f\"P-value: {p_value:.4f}\")\n",
    "\n",
    "# Check if the variances are significantly different\n",
    "alpha = 0.05\n",
    "if p_value < alpha:\n",
    "    print(\"The variances are significantly different.\")\n",
    "else:\n",
    "    print(\"There is no significant difference in variances.\")\n"
   ]
  },
  {
   "cell_type": "markdown",
   "id": "9f34964a",
   "metadata": {},
   "source": [
    "# Q4.The variances of two populations are known to be 10 and 15. A sample of 12 observations is taken from each population. Conduct an F-test at the 5% significance level to determine if the variances are significantly different."
   ]
  },
  {
   "cell_type": "code",
   "execution_count": 5,
   "id": "ca1518c1",
   "metadata": {},
   "outputs": [
    {
     "name": "stdout",
     "output_type": "stream",
     "text": [
      "F-value: 0.6667\n",
      "Degrees of Freedom: (11, 11)\n",
      "P-value: 0.5124\n",
      "Fail to reject the null hypothesis. There is no significant difference in variances.\n"
     ]
    }
   ],
   "source": [
    "from scipy import stats\n",
    "\n",
    "# Known population variances\n",
    "variance1 = 10\n",
    "variance2 = 15\n",
    "\n",
    "# Sample sizes\n",
    "n1 = 12\n",
    "n2 = 12\n",
    "\n",
    "# Sample variances (these would be calculated from the data in practice)\n",
    "sample_variance1 = variance1\n",
    "sample_variance2 = variance2\n",
    "\n",
    "# Calculate the F-value\n",
    "f_value = sample_variance1 / sample_variance2\n",
    "\n",
    "# Degrees of freedom\n",
    "df1 = n1 - 1\n",
    "df2 = n2 - 1\n",
    "\n",
    "# Calculate the p-value for a two-tailed test\n",
    "p_value = 2 * min(stats.f.cdf(f_value, df1, df2), 1 - stats.f.cdf(f_value, df1, df2))\n",
    "\n",
    "# Significance level\n",
    "alpha = 0.05\n",
    "\n",
    "# Print results\n",
    "print(f\"F-value: {f_value:.4f}\")\n",
    "print(f\"Degrees of Freedom: ({df1}, {df2})\")\n",
    "print(f\"P-value: {p_value:.4f}\")\n",
    "\n",
    "# Check the hypothesis\n",
    "if p_value < alpha:\n",
    "    print(\"Reject the null hypothesis. The variances are significantly different.\")\n",
    "else:\n",
    "    print(\"Fail to reject the null hypothesis. There is no significant difference in variances.\")\n"
   ]
  },
  {
   "cell_type": "markdown",
   "id": "737a40dd",
   "metadata": {},
   "source": [
    "# Q5. A manufacturer claims that the variance of the diameter of a certain product is 0.005. A sample of 25 products is taken, and the sample variance is found to be 0.006. Conduct an F-test at the 1% significance level to determine if the claim is justified."
   ]
  },
  {
   "cell_type": "code",
   "execution_count": 6,
   "id": "bb44407f",
   "metadata": {},
   "outputs": [
    {
     "name": "stdout",
     "output_type": "stream",
     "text": [
      "F-value: 1.2000\n",
      "Degrees of Freedom: (24, 1)\n",
      "P-value: 0.7408\n",
      "Fail to reject the null hypothesis. The manufacturer's claim is justified.\n"
     ]
    }
   ],
   "source": [
    "from scipy import stats\n",
    "\n",
    "# Known claimed population variance\n",
    "claimed_variance = 0.005\n",
    "\n",
    "# Sample variance from the data\n",
    "sample_variance = 0.006\n",
    "\n",
    "# Sample size\n",
    "n = 25\n",
    "\n",
    "# Calculate the F-value\n",
    "f_value = sample_variance / claimed_variance\n",
    "\n",
    "# Degrees of freedom\n",
    "df1 = n - 1\n",
    "df2 = 1  # One claim\n",
    "\n",
    "# Calculate the p-value for a two-tailed test\n",
    "p_value = 2 * min(stats.f.cdf(f_value, df1, df2), 1 - stats.f.cdf(f_value, df1, df2))\n",
    "\n",
    "# Significance level\n",
    "alpha = 0.01  # 1% significance level\n",
    "\n",
    "# Print results\n",
    "print(f\"F-value: {f_value:.4f}\")\n",
    "print(f\"Degrees of Freedom: ({df1}, {df2})\")\n",
    "print(f\"P-value: {p_value:.4f}\")\n",
    "\n",
    "# Check the hypothesis\n",
    "if p_value < alpha:\n",
    "    print(\"Reject the null hypothesis. The manufacturer's claim is not justified.\")\n",
    "else:\n",
    "    print(\"Fail to reject the null hypothesis. The manufacturer's claim is justified.\")\n"
   ]
  },
  {
   "cell_type": "markdown",
   "id": "56b2bc8a",
   "metadata": {},
   "source": [
    "# Q6. Write a Python function that takes in the degrees of freedom for the numerator and denominator of an F-distribution and calculates the mean and variance of the distribution. The function should return the mean and variance as a tuple."
   ]
  },
  {
   "cell_type": "code",
   "execution_count": 7,
   "id": "5e1b427b",
   "metadata": {},
   "outputs": [
    {
     "name": "stdout",
     "output_type": "stream",
     "text": [
      "Mean of F-distribution: 1.2500\n",
      "Variance of F-distribution: 1.9097\n"
     ]
    }
   ],
   "source": [
    "def f_distribution_mean_variance(df1, df2):\n",
    "    \"\"\"\n",
    "    Calculate the mean and variance of an F-distribution.\n",
    "\n",
    "    Args:\n",
    "    df1 (int): Degrees of freedom for the numerator.\n",
    "    df2 (int): Degrees of freedom for the denominator.\n",
    "\n",
    "    Returns:\n",
    "    mean_variance (tuple): Mean and variance of the F-distribution.\n",
    "    \"\"\"\n",
    "    # Calculate the mean of the F-distribution\n",
    "    if df2 > 2:\n",
    "        mean = df2 / (df2 - 2)\n",
    "    else:\n",
    "        mean = float('inf')  # If df2 <= 2, the mean is undefined\n",
    "    \n",
    "    # Calculate the variance of the F-distribution\n",
    "    if df2 > 4:\n",
    "        variance = (2 * (df2**2) * (df1 + df2 - 2)) / (df1 * (df2 - 2)**2 * (df2 - 4))\n",
    "    else:\n",
    "        variance = float('inf')  # If df2 <= 4, the variance is undefined\n",
    "\n",
    "    return mean, variance\n",
    "\n",
    "# Example usage:\n",
    "df1 = 3\n",
    "df2 = 10\n",
    "\n",
    "mean, variance = f_distribution_mean_variance(df1, df2)\n",
    "print(f\"Mean of F-distribution: {mean:.4f}\")\n",
    "print(f\"Variance of F-distribution: {variance:.4f}\")\n"
   ]
  },
  {
   "cell_type": "markdown",
   "id": "854ea80b",
   "metadata": {},
   "source": [
    "# Q7. A random sample of 10 measurements is taken from a normal population with unknown variance. The sample variance is found to be 25. Another random sample of 15 measurements is taken from another normal population with unknown variance, and the sample variance is found to be 20. Conduct an F-test at the 10% significance level to determine if the variances are significantly different."
   ]
  },
  {
   "cell_type": "code",
   "execution_count": 8,
   "id": "201ca2a4",
   "metadata": {},
   "outputs": [
    {
     "name": "stdout",
     "output_type": "stream",
     "text": [
      "F-value: 1.2500\n",
      "Degrees of Freedom: (9, 14)\n",
      "P-value: 0.6832\n",
      "Fail to reject the null hypothesis. There is no significant difference in variances.\n"
     ]
    }
   ],
   "source": [
    "from scipy import stats\n",
    "\n",
    "# Sample variances from the data\n",
    "sample_variance1 = 25\n",
    "sample_variance2 = 20\n",
    "\n",
    "# Sample sizes\n",
    "n1 = 10\n",
    "n2 = 15\n",
    "\n",
    "# Calculate the F-value\n",
    "f_value = sample_variance1 / sample_variance2\n",
    "\n",
    "# Degrees of freedom\n",
    "df1 = n1 - 1\n",
    "df2 = n2 - 1\n",
    "\n",
    "# Calculate the p-value for a two-tailed test\n",
    "p_value = 2 * min(stats.f.cdf(f_value, df1, df2), 1 - stats.f.cdf(f_value, df1, df2))\n",
    "\n",
    "# Significance level\n",
    "alpha = 0.10  # 10% significance level\n",
    "\n",
    "# Print results\n",
    "print(f\"F-value: {f_value:.4f}\")\n",
    "print(f\"Degrees of Freedom: ({df1}, {df2})\")\n",
    "print(f\"P-value: {p_value:.4f}\")\n",
    "\n",
    "# Check the hypothesis\n",
    "if p_value < alpha:\n",
    "    print(\"Reject the null hypothesis. The variances are significantly different.\")\n",
    "else:\n",
    "    print(\"Fail to reject the null hypothesis. There is no significant difference in variances.\")\n"
   ]
  },
  {
   "cell_type": "markdown",
   "id": "6a067de7",
   "metadata": {},
   "source": [
    "# Q8. The following data represent the waiting times in minutes at two different restaurants on a Saturday night: Restaurant A: 24, 25, 28, 23, 22, 20, 27; Restaurant B: 31, 33, 35, 30, 32, 36. Conduct an F-test at the 5% significance level to determine if the variances are significantly different."
   ]
  },
  {
   "cell_type": "code",
   "execution_count": 9,
   "id": "9d19ccb0",
   "metadata": {},
   "outputs": [
    {
     "name": "stdout",
     "output_type": "stream",
     "text": [
      "F-value: 1.4552\n",
      "Degrees of Freedom: (6, 5)\n",
      "P-value: 0.6975\n",
      "Fail to reject the null hypothesis. There is no significant difference in variances.\n"
     ]
    }
   ],
   "source": [
    "from scipy import stats\n",
    "\n",
    "# Waiting times data for Restaurant A and Restaurant B\n",
    "waiting_times_a = [24, 25, 28, 23, 22, 20, 27]\n",
    "waiting_times_b = [31, 33, 35, 30, 32, 36]\n",
    "\n",
    "# Calculate sample variances\n",
    "sample_variance_a = sum([(x - sum(waiting_times_a) / len(waiting_times_a))**2 for x in waiting_times_a]) / (len(waiting_times_a) - 1)\n",
    "sample_variance_b = sum([(x - sum(waiting_times_b) / len(waiting_times_b))**2 for x in waiting_times_b]) / (len(waiting_times_b) - 1)\n",
    "\n",
    "# Calculate the F-value\n",
    "f_value = sample_variance_a / sample_variance_b\n",
    "\n",
    "# Degrees of freedom\n",
    "df1 = len(waiting_times_a) - 1\n",
    "df2 = len(waiting_times_b) - 1\n",
    "\n",
    "# Calculate the p-value for a two-tailed test\n",
    "p_value = 2 * min(stats.f.cdf(f_value, df1, df2), 1 - stats.f.cdf(f_value, df1, df2))\n",
    "\n",
    "# Significance level\n",
    "alpha = 0.05  # 5% significance level\n",
    "\n",
    "# Print results\n",
    "print(f\"F-value: {f_value:.4f}\")\n",
    "print(f\"Degrees of Freedom: ({df1}, {df2})\")\n",
    "print(f\"P-value: {p_value:.4f}\")\n",
    "\n",
    "# Check the hypothesis\n",
    "if p_value < alpha:\n",
    "    print(\"Reject the null hypothesis. The variances are significantly different.\")\n",
    "else:\n",
    "    print(\"Fail to reject the null hypothesis. There is no significant difference in variances.\")\n"
   ]
  },
  {
   "cell_type": "markdown",
   "id": "06b914cf",
   "metadata": {},
   "source": [
    "# Q9. The following data represent the test scores of two groups of students: Group A: 80, 85, 90, 92, 87, 83; Group B: 75, 78, 82, 79, 81, 84. Conduct an F-test at the 1% significance level to determine if the variances are significantly different."
   ]
  },
  {
   "cell_type": "code",
   "execution_count": 10,
   "id": "07608ce7",
   "metadata": {},
   "outputs": [
    {
     "name": "stdout",
     "output_type": "stream",
     "text": [
      "F-value: 1.9443\n",
      "Degrees of Freedom: (5, 5)\n",
      "P-value: 0.4831\n",
      "Fail to reject the null hypothesis. There is no significant difference in variances.\n"
     ]
    }
   ],
   "source": [
    "from scipy import stats\n",
    "\n",
    "# Test scores data for Group A and Group B\n",
    "scores_group_a = [80, 85, 90, 92, 87, 83]\n",
    "scores_group_b = [75, 78, 82, 79, 81, 84]\n",
    "\n",
    "# Calculate sample variances\n",
    "sample_variance_group_a = sum([(x - sum(scores_group_a) / len(scores_group_a))**2 for x in scores_group_a]) / (len(scores_group_a) - 1)\n",
    "sample_variance_group_b = sum([(x - sum(scores_group_b) / len(scores_group_b))**2 for x in scores_group_b]) / (len(scores_group_b) - 1)\n",
    "\n",
    "# Calculate the F-value\n",
    "f_value = sample_variance_group_a / sample_variance_group_b\n",
    "\n",
    "# Degrees of freedom\n",
    "df1 = len(scores_group_a) - 1\n",
    "df2 = len(scores_group_b) - 1\n",
    "\n",
    "# Calculate the p-value for a two-tailed test\n",
    "p_value = 2 * min(stats.f.cdf(f_value, df1, df2), 1 - stats.f.cdf(f_value, df1, df2))\n",
    "\n",
    "# Significance level\n",
    "alpha = 0.01  # 1% significance level\n",
    "\n",
    "# Print results\n",
    "print(f\"F-value: {f_value:.4f}\")\n",
    "print(f\"Degrees of Freedom: ({df1}, {df2})\")\n",
    "print(f\"P-value: {p_value:.4f}\")\n",
    "\n",
    "# Check the hypothesis\n",
    "if p_value < alpha:\n",
    "    print(\"Reject the null hypothesis. The variances are significantly different.\")\n",
    "else:\n",
    "    print(\"Fail to reject the null hypothesis. There is no significant difference in variances.\")\n"
   ]
  },
  {
   "cell_type": "code",
   "execution_count": null,
   "id": "ac679a96",
   "metadata": {},
   "outputs": [],
   "source": []
  }
 ],
 "metadata": {
  "kernelspec": {
   "display_name": "Python 3 (ipykernel)",
   "language": "python",
   "name": "python3"
  },
  "language_info": {
   "codemirror_mode": {
    "name": "ipython",
    "version": 3
   },
   "file_extension": ".py",
   "mimetype": "text/x-python",
   "name": "python",
   "nbconvert_exporter": "python",
   "pygments_lexer": "ipython3",
   "version": "3.11.4"
  }
 },
 "nbformat": 4,
 "nbformat_minor": 5
}
